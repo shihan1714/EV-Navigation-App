{
 "cells": [
  {
   "cell_type": "markdown",
   "id": "e62dee4f-ece0-4271-a311-f572416e0e77",
   "metadata": {
    "tags": []
   },
   "source": [
    "# Introduction:\n",
    "The term “range anxiety” describes the vast tendency many new car buyers have when becoming prospective electric vehicle (EV) owners. This stems from the fear that drivers will run out of electricity before they can find a charging station. This project targets \"range anxiety\" among potential EV owners by finding routes that can show routes optimized to finding the least amount of charge stations to get from LA to New York. <br>\n",
    "The project focuses on a minimum-cost flow network problem with the goal of have finding the shortest path between destinations while \n",
    "requiring there to be enough charge stations between destinations. <br> "
   ]
  },
  {
   "cell_type": "markdown",
   "id": "9682667e-1290-43c8-b0bf-b472fd9ae506",
   "metadata": {},
   "source": [
    "\n",
    "# Model and Approach\n",
    "The approach started with developing a min-cost flow network problem by considering only the cost of \"distances\". A small scale of 10 randomly sampled charge stations in the LA area were selected. Distances were measured in euclidian distances. The greatest challenge was handling the memory consumption of billions of arcs. With several points of weakness in this project for bugs: python syntax, GAMS syntax, model design, etc, memory issues was the least expected challenge. <br>\n",
    "The method starts with filtering locations that deviated to far from a direct line that ran between LA and NYC. This created a corridor. A KMeans algorithm was then implemented to create labelled data based on clusters. The number of clusters, the number of locations sampled per cluster, and the threshold for sampling in a cluster are parameters created and used to control the amound of nodes and arcs that had to be computed. Networks with more then 4000 nodes were computationally impossible as GAMS would complain about running out of memory. <br>\n",
    "Lastly, electric vehicles with ranges from 92 to 900 km are allowed and accounted for. This data was gathered from the secondary data set mentioned in the project spec. These vehicle range parameters are used to enable or disable arcs: if an node is further then the range of the vehicle, the arc connecting the two nodes would be zero and filtered out in the model."
   ]
  },
  {
   "cell_type": "markdown",
   "id": "6f78d2ad-9ede-4c07-b443-c1f7dc01addf",
   "metadata": {
    "tags": []
   },
   "source": [
    "## Importations"
   ]
  },
  {
   "cell_type": "code",
   "execution_count": null,
   "id": "24a8412a-6717-457e-8e7b-aaddc89a998c",
   "metadata": {
    "tags": []
   },
   "outputs": [
    {
     "name": "stdout",
     "output_type": "stream",
     "text": [
      "Defaulting to user installation because normal site-packages is not writeable\n",
      "Requirement already satisfied: scikit-learn in ./.local/lib/python3.10/site-packages (1.3.2)\n",
      "Requirement already satisfied: numpy<2.0,>=1.17.3 in /opt/miniconda3/envs/jupyterhub/lib/python3.10/site-packages (from scikit-learn) (1.26.0)\n",
      "Requirement already satisfied: scipy>=1.5.0 in ./.local/lib/python3.10/site-packages (from scikit-learn) (1.11.4)\n",
      "Requirement already satisfied: joblib>=1.1.1 in ./.local/lib/python3.10/site-packages (from scikit-learn) (1.3.2)\n",
      "Requirement already satisfied: threadpoolctl>=2.0.0 in ./.local/lib/python3.10/site-packages (from scikit-learn) (3.2.0)\n",
      "Defaulting to user installation because normal site-packages is not writeable\n",
      "Requirement already satisfied: geopy in ./.local/lib/python3.10/site-packages (2.4.1)\n",
      "Requirement already satisfied: geographiclib<3,>=1.52 in ./.local/lib/python3.10/site-packages (from geopy) (2.0)\n"
     ]
    }
   ],
   "source": [
    "!pip install -U scikit-learn\n",
    "!pip install geopy\n",
    "import pandas as pd\n",
    "import numpy as np\n",
    "from sklearn.cluster import KMeans\n",
    "from sklearn.metrics import pairwise_distances\n",
    "from geopy.distance import great_circle\n",
    "import matplotlib.pyplot as plt\n",
    "path = 'ElectricCarData_Clean.csv'\n",
    "df = pd.read_csv(path)"
   ]
  },
  {
   "cell_type": "code",
   "execution_count": null,
   "id": "01f37ba7-67f7-4813-9d11-3ee5cd54c72d",
   "metadata": {
    "tags": []
   },
   "outputs": [],
   "source": [
    "df['Range_Km'].describe()"
   ]
  },
  {
   "cell_type": "markdown",
   "id": "2e1ea900-78f3-4e7d-861f-d84f2e507c4e",
   "metadata": {
    "jp-MarkdownHeadingCollapsed": true,
    "tags": []
   },
   "source": [
    "## Some function declarations"
   ]
  },
  {
   "cell_type": "code",
   "execution_count": null,
   "id": "50be1100-7819-41b6-9d63-f221d43be319",
   "metadata": {
    "tags": []
   },
   "outputs": [],
   "source": [
    "def distance(lat1, lon1, lat2, lon2, max_range = 92):\n",
    "    delX = np.abs(lon1-lon2)\n",
    "    delY = np.abs(lat1-lat2)\n",
    "\n",
    "    mag = np.sqrt((delX**2) + (delY**2))*111\n",
    "    mag[mag > max_range] = 0\n",
    "\n",
    "    return mag\n",
    "\n",
    "def net_gen(df, max_range):\n",
    "    latitudes = df['latitude'].values\n",
    "    longitudes = df['longitude'].values\n",
    "\n",
    "    # Creating a distance matrix using vectorized distance formula\n",
    "    dist_matrix = distance(latitudes[:, np.newaxis], longitudes[:, np.newaxis], latitudes, longitudes, max_range=max_range)\n",
    "\n",
    "    # Fill diagonal with 0s (distance to itself)\n",
    "    np.fill_diagonal(dist_matrix, 0)\n",
    "\n",
    "    # Convert the distance matrix to a DataFrame\n",
    "    df_net = pd.DataFrame(dist_matrix, index=df.index, columns=df.index)\n",
    "    \n",
    "    return df_net\n",
    "\n",
    "# Function to find the shortest distance from a point to a line given by two points (x1, y1) and (x2, y2)\n",
    "def point_to_line_distance(x, y, x1, y1, x2, y2):\n",
    "    # Line coefficients a, b, c (from the general equation of the line ax + by + c = 0)\n",
    "    a = y2 - y1\n",
    "    b = x1 - x2\n",
    "    c = (y1 - y2)*x1 + (x2 - x1)*y1\n",
    "\n",
    "    # Using the line distance formula\n",
    "    dist = abs(a*x + b*y + c) / np.sqrt(a**2 + b**2)\n",
    "    return dist"
   ]
  },
  {
   "cell_type": "markdown",
   "id": "2d5c7977-6148-4eeb-a2fe-07607cf72bb3",
   "metadata": {
    "tags": []
   },
   "source": [
    "## Data Preprocessing: Cleaning, Filtering, Sampling, and Network Construction"
   ]
  },
  {
   "cell_type": "code",
   "execution_count": null,
   "id": "c2388915-a2d2-4922-9b7e-530fecc33d06",
   "metadata": {
    "tags": []
   },
   "outputs": [],
   "source": [
    "vehicle_range = 228\n",
    "public_station = False\n",
    "    \n",
    "if vehicle_range <= 130:\n",
    "    print(\"Below minimum vehicle range\")\n",
    "    num_clusters = 150\n",
    "    max_group = 30 # large clusters cap\n",
    "    group_cap = 45 # Small clusters tolerance\n",
    "elif vehicle_range < 250:\n",
    "    print(\"Short Range vehicle\")\n",
    "    num_clusters = 120\n",
    "    max_group = 15 # large clusters cap\n",
    "    group_cap = 25 # Small clusters tolerance\n",
    "elif vehicle_range < 450:\n",
    "    print(\"Medium-low range vehicle\")\n",
    "    num_clusters = 60\n",
    "    max_group = 10 # large clusters cap\n",
    "    group_cap = 10 # Small clusters tolerance\n",
    "elif vehicle_range < 700:\n",
    "    print(\"Medium Range vehicle\")  \n",
    "    num_clusters = 40\n",
    "    max_group = 10 # large clusters cap\n",
    "    group_cap = 5 # Small clusters tolerance\n",
    "elif vehicle_range <= 900:\n",
    "    print(\"Long Range vehicle\") \n",
    "    num_clusters = 15\n",
    "    max_group = 20 # large clusters cap\n",
    "    group_cap = 5 # Small clusters tolerance\n",
    "else:\n",
    "    print(\"Above maximum vehicle range\")\n",
    "    num_clusters = 100\n",
    "    max_group = 5 # large clusters cap\n",
    "    group_cap = 5 # Small clusters tolerance\n",
    "\n",
    "path = 'Alternative_Fueling_Stations.csv'\n",
    "df = pd.read_csv(path, low_memory = False)\n",
    "\n",
    "# Define the longitude and latitude range\n",
    "lon_min, lon_max = -150, 20\n",
    "lat_min, lat_max = 20, 50\n",
    "\n",
    "# Filter rows where longitude is between -150 and 50, and latitude is between 20 and 50\n",
    "df_filtered = df[(df['longitude'] >= lon_min) & (df['longitude'] <= lon_max) &\n",
    "                 (df['latitude'] >= lat_min) & (df['latitude'] <= lat_max)]\n",
    "condition = df_filtered['groups_with_access_code'].str.contains('public', case=False, na=False)\n",
    "df_filtered.loc[condition, 'groups_with_access_code'] = 'public'\n",
    "if public_station:\n",
    "    df_US = df_filtered[df_filtered['groups_with_access_code'] == 'public']\n",
    "else:\n",
    "    df_US = df_filtered.copy()\n",
    "\n",
    "la_lon, la_lat = -118.2426, 34.0549\n",
    "nyc_lon, nyc_lat = -74.0060, 40.7128\n",
    "\n",
    "km_per_degree = 111  # average value, can vary based on latitude\n",
    "\n",
    "# Assuming 7 km is the corridor half-width\n",
    "corridor_half_width_km = 7\n",
    "corridor_width_degrees = 4# corridor_half_width_km / km_per_degree  # convert half-width to degrees\n",
    "\n",
    "# Filter the DataFrame to get only locations within the corridor\n",
    "df_corridor = df_US.copy()\n",
    "df_corridor['distance_to_line'] = df_corridor.apply(\n",
    "    lambda row: point_to_line_distance(row['longitude'], row['latitude'], la_lon, la_lat, nyc_lon, nyc_lat), axis=1\n",
    ")\n",
    "df_corridor = df_corridor[df_corridor['distance_to_line'] <= corridor_width_degrees]\n",
    "\n",
    "# Make clusters of locations\n",
    "model = KMeans(n_clusters=num_clusters, random_state=42, n_init=10)\n",
    "df_corridor['predictions'] = model.fit_predict(df_corridor[['latitude', 'longitude']])\n",
    "\n",
    "# Samples 2 samples 10 from high density clusters and samples all in low density clusters\n",
    "samples2 = pd.concat([df_group if len(df_group) < group_cap else df_group.sample(n=max_group) \n",
    "                      for _, df_group in df_corridor.groupby('predictions')])\n",
    "final_df = samples2.copy()\n",
    "NYC_sample = df_US.loc[[17191]]\n",
    "LA_sample = df_US.loc[[29041]]\n",
    "\n",
    "\n",
    "if 17191 not in np.array(samples2.index):\n",
    "    final_df = pd.concat([final_df, NYC_sample])\n",
    "    \n",
    "if 29041 not in samples2.index:\n",
    "    final_df = pd.concat([final_df, LA_sample])\n",
    "    \n",
    "# Step 3: Concatenate everything into one DataFrame\n",
    "df_final = final_df.copy()\n",
    "arc_net = net_gen(df_final, max_range= vehicle_range)\n",
    "for col in arc_net.select_dtypes(include=['float64']).columns:\n",
    "    arc_net[col] = pd.to_numeric(arc_net[col], downcast='float')\n",
    "\n",
    "# final_df now contains only the points within the corridor\n",
    "plt.figure(figsize=(10, 6))\n",
    "plt.scatter(df_filtered['longitude'], df_filtered['latitude'], label='Coordinates', c='k')\n",
    "plt.scatter(final_df['longitude'], final_df['latitude'], c = final_df['predictions'])\n",
    "plt.scatter(la_lon, la_lat, color='red', label='Los Angeles')\n",
    "plt.scatter(nyc_lon, nyc_lat, color='red', label='NYC')\n",
    "\n",
    "# Finalize and show the plot\n",
    "title = 'Scatter Plot of Locations Plotting Locations Counted'\n",
    "plt.title(title)\n",
    "plt.xlabel('Longitude')\n",
    "plt.ylabel('Latitude')\n",
    "plt.legend()\n",
    "plt.grid(True)\n",
    "plt.show()\n",
    "final_df.shape"
   ]
  },
  {
   "cell_type": "markdown",
   "id": "c2af51a8-c55e-474a-84f0-81a007a0ace1",
   "metadata": {
    "tags": []
   },
   "source": [
    "## GAMS"
   ]
  },
  {
   "cell_type": "code",
   "execution_count": null,
   "id": "9511e2a5-7512-4893-be54-420f0df5e645",
   "metadata": {
    "tags": []
   },
   "outputs": [],
   "source": [
    "df = arc_net\n",
    "%load_ext gams.magic\n",
    "m = gams.exchange_container\n",
    "stackdf = df.stack().reset_index()\n",
    "nodes = m.addSet('nodes', description = \"nodes\", records = df.index)\n",
    "distances = m.addParameter('distances', [nodes, nodes], records = stackdf)"
   ]
  },
  {
   "cell_type": "code",
   "execution_count": null,
   "id": "3de6edba-c182-4f2f-b856-e0379ac96998",
   "metadata": {
    "tags": []
   },
   "outputs": [],
   "source": [
    "%%gams\n",
    "alias(i, j, nodes)\n",
    "parameter supply(nodes) /29041 1, 17191 -1/;\n",
    "\n",
    "set arcs(nodes, nodes);\n",
    "arcs(i,j) = distances(i,j) > 0;\n",
    "* Variables for the optimization problem\n",
    "* Variable for total distance\n",
    "variables totalDistance;\n",
    "* Flow variables for each arc      \n",
    "positive variables x(nodes,nodes) flow; \n",
    "\n",
    "* Equations for constraints and objective\n",
    "equations balance(nodes), objective;\n",
    "\n",
    "* Balance equation for flow conservation\n",
    "balance(nodes)..\n",
    "    sum(arcs(nodes,j), x(nodes,j)) - sum(arcs(i,nodes), x(i,nodes)) =e= supply(nodes);\n",
    "\n",
    "* Objective function for total distance minimization\n",
    "objective..\n",
    "    totalDistance =e= sum(arcs, distances(arcs) * x(arcs));\n",
    "\n",
    "* Model definition and solving\n",
    "model short1 / balance, objective /;\n",
    "solve short1 minimizing totalDistance using lp;\n",
    "\n",
    "option x:5:0:2;\n",
    "display x.l, totalDistance.l, distances;\n",
    "display arcs;\n",
    "\n",
    "* Define a set to hold the used arcs\n",
    "set usedArcs(nodes, nodes);\n",
    "\n",
    "* Populate the set with arcs that have positive flow in the solution\n",
    "usedArcs(i,j)$(x.l(i,j) > 0) = yes;\n",
    "\n",
    "* Display the used arcs\n",
    "display usedArcs;"
   ]
  },
  {
   "cell_type": "markdown",
   "id": "be2e37c4-f3b2-4883-9e47-a3111def9c29",
   "metadata": {
    "tags": []
   },
   "source": [
    "# Data Post Processing & Visualization"
   ]
  },
  {
   "cell_type": "code",
   "execution_count": null,
   "id": "2f989b4d-941a-4241-88ed-b988ebc549f9",
   "metadata": {
    "tags": []
   },
   "outputs": [],
   "source": [
    "output = m['usedArcs'].records\n",
    "output['nodes_0'] = output['nodes_0'].astype(int)\n",
    "output['nodes_1'] = output['nodes_1'].astype(int)\n",
    "filter0 = output['nodes_0'].unique().tolist()\n",
    "filter1 = output['nodes_1'].unique().tolist()\n",
    "filter = filter0 + filter1\n",
    "map = df_US.loc[filter]\n",
    "map.sort_values(by='longitude', inplace=True)\n",
    "\n",
    "# final_df now contains only the points within the corridor\n",
    "plt.figure(figsize=(10, 6))\n",
    "plt.scatter(df_filtered['longitude'], df_filtered['latitude'], label='Charge Stations', c='c')\n",
    "plt.plot(map['longitude'], map['latitude'], c = 'r')\n",
    "la_lon, la_lat = -118.2426, 34.0549\n",
    "nyc_lon, nyc_lat = -74.0060, 40.7128\n",
    "plt.scatter(la_lon, la_lat, color='red', label='Los Angeles')\n",
    "plt.scatter(nyc_lon, nyc_lat, color='red', label='NYC')\n",
    "\n",
    "# Finalize and show the plot\n",
    "title = 'Optimized Route for EV Charging, between NYC and LA'\n",
    "plt.title(title)\n",
    "plt.xlabel('Longitude')\n",
    "plt.ylabel('Latitude')\n",
    "plt.legend()\n",
    "plt.grid(True)\n",
    "plt.show()"
   ]
  },
  {
   "cell_type": "markdown",
   "id": "32b36cda-5fc5-4c27-bd0b-f7b09cafbfb7",
   "metadata": {},
   "source": [
    "# Conclusion\n",
    "In conclusion, range anxiety is slowly becoming a thing in the past. Despite the computational limits of my implementation, vehicle ranges below >250 kilometers are feasible in a road trip from LA to NYC. The mean EV range from the electric car data is aruond 338  which plots to be a road distance of  However, electric vehicles below that range will definitely struggle. Most importantly is the proof of concept of the feasibility of EVs in a larger network and that uses for smaller trips such as intrastate trips are extremely feasible. There is definitely a \"charge sink\" that is in the heartland of the US which posed the greatest boundary for EVs trying to make the trip. Public may impact feasibility but feasibiblity is overshadowed by range."
   ]
  },
  {
   "cell_type": "code",
   "execution_count": null,
   "id": "fb4db9da-dcaa-40b9-ab89-2b31a6a7207e",
   "metadata": {},
   "outputs": [],
   "source": []
  }
 ],
 "metadata": {
  "kernelspec": {
   "display_name": "Python 3 (ipykernel)",
   "language": "python",
   "name": "python3"
  },
  "language_info": {
   "codemirror_mode": {
    "name": "ipython",
    "version": 3
   },
   "file_extension": ".py",
   "mimetype": "text/x-python",
   "name": "python",
   "nbconvert_exporter": "python",
   "pygments_lexer": "ipython3",
   "version": "3.10.13"
  }
 },
 "nbformat": 4,
 "nbformat_minor": 5
}
